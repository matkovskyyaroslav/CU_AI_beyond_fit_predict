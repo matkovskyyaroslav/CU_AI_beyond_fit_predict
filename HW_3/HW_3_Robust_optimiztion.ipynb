{
  "cells": [
    {
      "cell_type": "markdown",
      "metadata": {
        "id": "ZCJxpviHdP60"
      },
      "source": [
        "# Домашнее задание #3 [50 баллов]\n",
        "\n",
        "**Hard deadline: 23:59 24 марта**\n",
        "\n",
        "**Подсказка к третьей части: 18 марта**\n",
        "\n",
        "На лекции мы разобрались, что ML-модели можно атаковать. Например, в задаче распознавания лиц мы можем добавить к изображению небольшой шум, который заставит модель совершить ошибку.\n",
        "\n",
        "В этом задании мы научимся защищать модель от атак. Для иллюстрации мы будем использовать простую логистическую регрессию, но похожие идеи можно применить и к сложным нейросетям.\n",
        "\n",
        "В качестве задачи рассмотрим классификацию изображений MNIST для цифр 0 и 1."
      ]
    },
    {
      "cell_type": "markdown",
      "metadata": {
        "id": "6O7TndbVe_gS"
      },
      "source": [
        "### Подготовка"
      ]
    },
    {
      "cell_type": "code",
      "execution_count": 1,
      "metadata": {
        "id": "uTKu4PLGdn_p"
      },
      "outputs": [],
      "source": [
        "# Загрузим библиотеки, которые нам пригодятся\n",
        "\n",
        "from sklearn.datasets import fetch_openml\n",
        "from sklearn.model_selection import train_test_split\n",
        "\n",
        "import numpy as np\n",
        "import matplotlib.pyplot as plt\n",
        "\n",
        "import warnings\n",
        "warnings.filterwarnings(\"ignore\")"
      ]
    },
    {
      "cell_type": "code",
      "execution_count": 2,
      "metadata": {
        "colab": {
          "base_uri": "https://localhost:8080/"
        },
        "id": "pNFUutNhfD9-",
        "outputId": "9f3335ab-5f47-43a1-f7ed-61da1220f373"
      },
      "outputs": [
        {
          "output_type": "stream",
          "name": "stdout",
          "text": [
            "Доля единиц в датасете:  0.5329499323410013\n"
          ]
        }
      ],
      "source": [
        "# Загрузим датасет\n",
        "mnist = fetch_openml('mnist_784', as_frame=False, cache=True)\n",
        "\n",
        "# подготовим данные в нужном формате\n",
        "X = mnist.data.astype('float32')\n",
        "y = mnist.target.astype('int64')\n",
        "\n",
        "# Оставим в датасете только классы 0 и 1\n",
        "y_bin = y[(y == 0) | (y == 1)]\n",
        "X_bin = X[(y == 0) | (y == 1)]\n",
        "\n",
        "\n",
        "# Для удобства, обозначим лейблы классов за -1 (обозначает цифру 0)\n",
        "# и 1 (обозначает цифру 1)\n",
        "y_bin[y_bin == 0] = -1\n",
        "\n",
        "# Посмотрим на долю единиц в датасете\n",
        "positive_class_size = len(y_bin[y_bin == 1])\n",
        "positive_class_rate = positive_class_size / len(y_bin)\n",
        "\n",
        "print(\"Доля единиц в датасете: \", positive_class_rate)"
      ]
    },
    {
      "cell_type": "code",
      "execution_count": 3,
      "metadata": {
        "colab": {
          "base_uri": "https://localhost:8080/",
          "height": 152
        },
        "id": "a1x4I2UOgGgS",
        "outputId": "5c1a944c-220c-43ea-f18d-3c1cb776eace"
      },
      "outputs": [
        {
          "output_type": "display_data",
          "data": {
            "text/plain": [
              "<Figure size 700x300 with 5 Axes>"
            ],
            "image/png": "[encoded data removed]"
          },
          "metadata": {}
        }
      ],
      "source": [
        "# Посмотрим на первые 5 примеров\n",
        "\n",
        "n = 5\n",
        "\n",
        "fig, axs = plt.subplots(1, n, figsize=(7, 3))\n",
        "\n",
        "for ax, image, label in zip(axs, X_bin[:n], y_bin[:n]):\n",
        "\n",
        "  # Переводим картинку из вектора длины 784 в матрицу 28 x 28\n",
        "  image_reshaped = image.reshape(28, 28)\n",
        "\n",
        "  ax.imshow(image_reshaped)\n",
        "  ax.set_title(label)\n",
        "  ax.axis(\"off\")"
      ]
    },
    {
      "cell_type": "markdown",
      "metadata": {
        "id": "r_S4mqdWgVgl"
      },
      "source": [
        "### Шаг 1. Тренировка незащищенной модели [10 баллов]\n",
        "\n",
        "\n",
        "Начнем с того, что натренируем стандартную модель логистической регрессии и оценим ее устойчивость к атакам. Из курса ML вспомним, что логистическая регрессия это линейная модель:\n",
        "\n",
        "$$h_\\theta(x) = w^T x + b$$\n",
        "\n",
        "с функцией ошибки\n",
        "\n",
        "\\begin{equation}\n",
        "\\ell(h_\\theta(x), y) = \\log(1+\\exp(-y\\cdot h_\\theta(x))) \\equiv L(y \\cdot h_\\theta(x))\n",
        "\\end{equation}\n",
        "\n",
        "Здесь для сокращения записи мы ввели функцию $L(x) = \\log(1+\\exp(-x))$.\n",
        "\n",
        "\n",
        "**Что нужно сделать:**\n",
        "\n",
        "1. Разбить данные на train и test\n",
        "\n",
        "2. Нормализовать датасет ($X$) так, чтобы значения каждого пикселя были в диапазоне [0, 1]\n",
        "\n",
        "3. Натренировать модель логистической регрессии на train set\n",
        "\n",
        "4. Оценить точность (accuracy) логистической регрессии на test set\n",
        "\n",
        "Для решения этой части задания можно использовать встроенные методы `sklearn`\n",
        "\n"
      ]
    },
    {
      "cell_type": "code",
      "execution_count": 235,
      "metadata": {
        "id": "-HzWXbbB7GaC",
        "colab": {
          "base_uri": "https://localhost:8080/"
        },
        "outputId": "029c65a2-779b-4025-99e3-b1acb5a5aee0"
      },
      "outputs": [
        {
          "output_type": "stream",
          "name": "stdout",
          "text": [
            "Accuracy = 0.9997293640054127\n"
          ]
        }
      ],
      "source": [
        "# Для решения могут пригодиться следующие методы\n",
        "\n",
        "from sklearn.linear_model import LogisticRegression\n",
        "from sklearn.model_selection import train_test_split\n",
        "from sklearn.preprocessing import MinMaxScaler\n",
        "from sklearn.metrics import accuracy_score, roc_auc_score\n",
        "\n",
        "# Your code here\n",
        "\n",
        "X_train, X_test, y_train, y_test = train_test_split(X_bin, y_bin, random_state=42)\n",
        "\n",
        "scaler = MinMaxScaler()\n",
        "\n",
        "X_train_scaled = scaler.fit_transform(X_train)\n",
        "X_test_scaled = scaler.transform(X_test)\n",
        "\n",
        "logreg = LogisticRegression()\n",
        "\n",
        "logreg.fit(X_train_scaled, y_train)\n",
        "pred = logreg.predict(X_test_scaled)\n",
        "\n",
        "print(f'Accuracy = {accuracy_score(y_test, pred)}')"
      ]
    },
    {
      "cell_type": "markdown",
      "metadata": {
        "id": "EEZXL_mX8e8z"
      },
      "source": [
        "### Шаг 2. Атака незащищенной модели [15 баллов]\n",
        "\n",
        "Будем считать, что мы можем атаковать модель, изменив значение каждого пикселя в изображении не более чем на 0.2 (атака производится после нормализации):\n",
        "\n",
        "$$x' = x + \\delta, \\quad ||\\delta||_{\\infty} \\le 0.2 = ɛ.$$\n",
        "\n",
        "Как мы доказали на лекции, в случае логистической регрессии мы можем найти точное выражение для оптимальной атаки:\n",
        "\\begin{equation}\n",
        "\\delta^\\star = - y \\cdot \\epsilon \\cdot \\mathrm{sign}(w),\n",
        "\\end{equation}\n",
        "где $w$ это вектор весов модели, который мы получили на Шаге 1.\n",
        "\n",
        "Давайте проведем атаку на модель и посмотрим как сильно упадет её точность.\n",
        "\n",
        "**Что нужно сделать**\n",
        "\n",
        "1. Вычислить значения оптимальной атаки $\\delta^\\star$ для каждого класса (-1 и 1)\n",
        "\n",
        "2. Применить атаку к каждому изображению в test set\n",
        "\n",
        "3. Оценить точность (accuracy) логистической регрессии на атакованном test set\n",
        "\n",
        "Обратите внимание, что атака изображения может вывести значения пикселей из диапазона $[0, 1]$. Для простоты в этом задании можно не делать повторной нормализации.\n",
        "\n",
        "Для решения этой части задания можно использовать встроенные методы `sklearn`"
      ]
    },
    {
      "cell_type": "code",
      "execution_count": 236,
      "metadata": {
        "id": "pHnbXhqU7I5r",
        "colab": {
          "base_uri": "https://localhost:8080/",
          "height": 290
        },
        "outputId": "4f8782c0-1e90-4b8e-b551-1780b572982f"
      },
      "outputs": [
        {
          "output_type": "display_data",
          "data": {
            "text/plain": [
              "<Figure size 700x300 with 2 Axes>"
            ],
            "image/png": "[encoded data removed]"
          },
          "metadata": {}
        }
      ],
      "source": [
        "# TODO: Вычислите значения оптимальной атаки на картинки каждого класса и\n",
        "# изобразите их\n",
        "\n",
        "# Вектор весов модели можно получить следующим образом:\n",
        "# weight = model.coef_\n",
        "\n",
        "# Your code here\n",
        "\n",
        "eps = 0.2\n",
        "sign_weights = np.sign(logreg.coef_)\n",
        "\n",
        "error_for_1 = -eps * sign_weights[0]\n",
        "error_for_0 = eps * sign_weights[0]\n",
        "\n",
        "fig, axs = plt.subplots(1, 2, figsize=(7, 3))\n",
        "\n",
        "error_lst = np.array([error_for_1, error_for_0])\n",
        "\n",
        "for ax, image, label in zip(axs, error_lst, [1, -1]):\n",
        "\n",
        "  # Переводим картинку из вектора длины 784 в матрицу 28 x 28\n",
        "  image_reshaped = image.reshape(28, 28)\n",
        "\n",
        "  ax.imshow(image_reshaped)\n",
        "  ax.set_title(label)\n",
        "  ax.axis(\"off\")"
      ]
    },
    {
      "cell_type": "code",
      "execution_count": 237,
      "metadata": {
        "id": "oLfyVguh_y7j",
        "colab": {
          "base_uri": "https://localhost:8080/"
        },
        "outputId": "8f9e8c1b-390e-403d-a901-dac48bb28c45"
      },
      "outputs": [
        {
          "output_type": "stream",
          "name": "stdout",
          "text": [
            "0.14506089309878215\n"
          ]
        }
      ],
      "source": [
        "# TODO: Примените атаку к изображениям в test set и посчитайте точность модели\n",
        "\n",
        "# Your code here\n",
        "\n",
        "X_test_scaled[y_test == 1] += error_for_1\n",
        "X_test_scaled[y_test == -1] += error_for_0\n",
        "\n",
        "print(accuracy_score(y_test, logreg.predict(X_test_scaled)))"
      ]
    },
    {
      "cell_type": "markdown",
      "metadata": {
        "id": "YnfP-WtRD4ki"
      },
      "source": [
        "### Шаг 3. Тренировка Robust Classifier [25 баллов]\n",
        "\n",
        "Чтобы натренировать модель, устойчивую к атакам, нужно изменить процесс тренировки. Во время тренировки нам нужно минимизировать не стандартную функцию ошибки логистической регрессии, а модифицированную:\n",
        "\n",
        "\\begin{equation}\n",
        "\\DeclareMathOperator*{\\minimize}{minimize}\n",
        "\\minimize_{w,b} \\frac{1}{D}\\sum_{(x,y) \\in D} L \\left(y \\cdot (w^Tx + b) - \\epsilon \\|w\\|_1 \\right ).\n",
        "\\end{equation}\n",
        "\n",
        "Натренируйте модель Robust Logistic Regression на train set и оцените ее устойчивость к атакам.\n",
        "\n",
        "**Что нужно сделать:**\n",
        "\n",
        "1. Реализуйте свой ML-метод: класс **RobustLogisticRegression**, который наследует от sklearn класса [BaseEstimator](https://scikit-learn.org/stable/modules/generated/sklearn.base.BaseEstimator.html). Новый класс должен содержать методы `fit` и `predict`, а внутри метода `fit` должна проходить процедура градиентного спуска с новой функцией ошибки. Шаблон класса дан ниже.\n",
        "\n",
        "2. Натренируйте Robust Logistic Regression и оцените ее точность на чистом test set\n",
        "\n",
        "3. Вычислите атаку $\\delta^\\star = - y \\cdot \\epsilon \\cdot \\mathrm{sign}(w)$ на модель и проатакуйте test set. Для атаки используйте веса робастной модели\n",
        "\n",
        "4. Оцените точность модели на атакованном test set\n",
        "\n",
        "Для решения этой части задания **нельзя** использовать встроенные методы `sklearn`, только шаблон ниже и методы `numpy`"
      ]
    },
    {
      "cell_type": "markdown",
      "source": [
        "Посчитаем градиенты:\n",
        "\n",
        "$L = log(1 + exp(-y(w^T x + b) +\n",
        "\\varepsilon ||w||_1))$\n",
        "\n",
        "\\\n",
        "\n",
        "$z = -y(w^T x + b)$\n",
        "\n",
        "$g = 1 + exp(z)$\n",
        "\n",
        "$L = log(g)$\n",
        "\n",
        "\\\n",
        "\n",
        "$\\dfrac{\\partial L}{\\partial w} = \\dfrac{\\partial L}{\\partial g} \\dfrac{\\partial g}{\\partial z} \\dfrac{\\partial z}{\\partial w} = \\dfrac{1}{g} \\times exp(z) \\times (-yx) = \\fbox{$\\dfrac{exp(-y (w^Tx + b) + ɛ ||w||_1)}{1 + exp(-y (w^Tx + b) + ɛ ||w||_1} \\times (ɛ * [w > 0] - ɛ [w \\leqslant 0] -yx)$}$\n",
        "\n",
        "\\\n",
        "Аналогично получаем для веса $b$\n",
        "\n",
        "$\\dfrac{∂ L}{\\partial b} = \\dfrac{\\partial L}{\\partial g} \\dfrac{\\partial g}{\\partial z} \\dfrac{\\partial z}{\\partial b} = \\fbox{$\\dfrac{exp(-y (w^Tx + b) + ɛ ||w||_1)}{1 + exp(-y (w^Tx + b) + ɛ ||w||_1} \\times (-y)$}$"
      ],
      "metadata": {
        "id": "5UKt_ut2NLBw"
      }
    },
    {
      "cell_type": "code",
      "execution_count": 238,
      "metadata": {
        "id": "16dueICND40o"
      },
      "outputs": [],
      "source": [
        "from sklearn.base import BaseEstimator\n",
        "\n",
        "# TODO: Write RobustLogisticRegression class\n",
        "\n",
        "\n",
        "class RobustLogisticRegression(BaseEstimator):\n",
        "\n",
        "    def __init__(self):\n",
        "        # Your code here\n",
        "        self.lr = 0.1\n",
        "        self.eps = 0.2\n",
        "\n",
        "    def fit(self, X, y):\n",
        "        # Your code here\n",
        "        self.w = np.random.uniform(0, 1, X.shape[1])\n",
        "        self.b = np.random.uniform(0, 1, 1)\n",
        "\n",
        "        w_list = []\n",
        "        w_list.append(self.w.copy())\n",
        "\n",
        "        w_1_norm = np.sum(np.abs(self.w))\n",
        "\n",
        "        grad_w = np.zeros(len(self.w), dtype=float)\n",
        "        grad_b = np.zeros(len(self.b), dtype=float)\n",
        "\n",
        "        w_indic = self.w.copy()\n",
        "        w_indic[w_indic <= 0] *= -1\n",
        "\n",
        "        for x_, y_ in zip(X, y): # Делаем первую итерацию\n",
        "\n",
        "            const_1 = 1 / (1 + np.exp(self.eps * w_1_norm - y_ * (self.w @ x_ + self.b)))\n",
        "            const_2 = np.exp(-y_ * (self.w @ x_ + self.b) + self.eps * w_1_norm)\n",
        "\n",
        "            temp_w = (self.eps * w_indic) - y_ * x_\n",
        "            temp_w *= const_1 * const_2\n",
        "\n",
        "            grad_w += temp_w\n",
        "\n",
        "            grad_b += const_1 * const_2 * -y_\n",
        "\n",
        "        self.b -= self.lr * grad_b / len(y)\n",
        "\n",
        "        self.w -= self.lr * grad_w / len(y)\n",
        "        w_list.append(self.w.copy())\n",
        "\n",
        "        ostanov = np.sum((w_list[1] - w_list[0]) ** 2)\n",
        "        epoch = 0\n",
        "\n",
        "        while np.sum((w_list[1] - w_list[0]) ** 2) > 0.08: # Запускаем град спуск до сходимости весов\n",
        "\n",
        "            w_list = []\n",
        "            w_list.append(self.w.copy())\n",
        "            w_1_norm = np.sum(np.abs(self.w))\n",
        "\n",
        "            grad_w = np.zeros(len(self.w), dtype=float)\n",
        "            grad_b = np.zeros(len(self.b), dtype=float)\n",
        "\n",
        "            for x_, y_ in zip(X, y):\n",
        "\n",
        "                w_indic = self.w.copy()\n",
        "                w_indic[w_indic <= 0] *= -1\n",
        "\n",
        "                const_1 = 1 / (1 + np.exp(self.eps * w_1_norm - y_ * (self.w @ x_ + self.b)))\n",
        "                const_2 = np.exp(-y_ * (self.w @ x_ + self.b) + self.eps * w_1_norm)\n",
        "\n",
        "                temp_w = (self.eps * w_indic) - y_ * x_\n",
        "                temp_w *= const_1 * const_2\n",
        "\n",
        "                grad_w += temp_w\n",
        "\n",
        "                grad_b += const_1 * const_2 * -y_\n",
        "\n",
        "            self.w -= self.lr * grad_w / len(y)\n",
        "            self.b -= self.lr * grad_b / len(y)\n",
        "\n",
        "            w_list.append(self.w.copy())\n",
        "            if epoch % 10 == 0:\n",
        "                print(f'epoch = {epoch}')\n",
        "                print(f'Diff between weights = {np.round(np.sum((w_list[1] - w_list[0]) ** 2), 4)}')\n",
        "                print()\n",
        "\n",
        "            epoch += 1\n",
        "\n",
        "        print(f'epoch = {epoch}')\n",
        "        print(f'Diff between weights = {np.round(np.sum((w_list[1] - w_list[0]) ** 2), 4)}')\n",
        "\n",
        "\n",
        "    def predict(self, X, threshold=0.5):\n",
        "        # Your code here\n",
        "        def sigmoid(z):\n",
        "            return 1 / (1 + np.exp(-z))\n",
        "\n",
        "        pred = sigmoid(X @ self.w + self.b)\n",
        "        pred[pred >= threshold] = 1\n",
        "        pred[pred < threshold] = -1\n",
        "\n",
        "        return pred"
      ]
    },
    {
      "cell_type": "code",
      "source": [
        "rob = RobustLogisticRegression()\n",
        "\n",
        "rob.fit(X_train_scaled, y_train)\n"
      ],
      "metadata": {
        "colab": {
          "base_uri": "https://localhost:8080/"
        },
        "id": "-69T3kSS2V3t",
        "outputId": "bf7900da-d51b-49e6-87f6-55807c583e68"
      },
      "execution_count": 239,
      "outputs": [
        {
          "output_type": "stream",
          "name": "stdout",
          "text": [
            "epoch = 0\n",
            "Diff between weights = 0.2821\n",
            "\n",
            "epoch = 10\n",
            "Diff between weights = 0.1987\n",
            "\n",
            "epoch = 20\n",
            "Diff between weights = 0.1676\n",
            "\n",
            "epoch = 30\n",
            "Diff between weights = 0.1873\n",
            "\n",
            "epoch = 40\n",
            "Diff between weights = 0.0971\n",
            "\n",
            "epoch = 47\n",
            "Diff between weights = 0.0799\n"
          ]
        }
      ]
    },
    {
      "cell_type": "code",
      "source": [
        "# В предыдущем пункте мы добавляли ошибки, сейчас надо вычесть\n",
        "\n",
        "X_test_scaled[y_test == 1] -= error_for_1\n",
        "X_test_scaled[y_test == -1] -= error_for_0"
      ],
      "metadata": {
        "id": "U97zV75cL9Sl"
      },
      "execution_count": 240,
      "outputs": []
    },
    {
      "cell_type": "markdown",
      "source": [
        "Давайте изобразим веса обычной Логистической регрессии, и веса нашей:"
      ],
      "metadata": {
        "id": "SZ29iQWWJvP2"
      }
    },
    {
      "cell_type": "code",
      "source": [
        "fig, axs = plt.subplots(1, 2, figsize=(7, 3))\n",
        "\n",
        "image_weights = np.array([logreg.coef_[0], rob.w])\n",
        "\n",
        "for ax, image, label in zip(axs, image_weights, ['Logreg coefs', 'Robust logreg coefs']):\n",
        "\n",
        "    image_reshaped = image.reshape(28, 28)\n",
        "\n",
        "    ax.imshow(image_reshaped)\n",
        "    ax.set_title(label)\n",
        "    ax.axis(\"off\")"
      ],
      "metadata": {
        "colab": {
          "base_uri": "https://localhost:8080/",
          "height": 290
        },
        "id": "sqOPTew4Dfsi",
        "outputId": "02c55575-ce40-4db9-f8ba-d43bcaa80b70"
      },
      "execution_count": 242,
      "outputs": [
        {
          "output_type": "display_data",
          "data": {
            "text/plain": [
              "<Figure size 700x300 with 2 Axes>"
            ],
            "image/png": "[encoded data removed]"
          },
          "metadata": {}
        }
      ]
    },
    {
      "cell_type": "code",
      "source": [
        "pred = rob.predict(X_test_scaled)\n",
        "\n",
        "pred[pred >= 0.5] = 1\n",
        "pred[pred < 0.5] = -1\n",
        "\n",
        "accuracy_score(y_test, pred)"
      ],
      "metadata": {
        "colab": {
          "base_uri": "https://localhost:8080/"
        },
        "id": "F4C2-7F6DZm8",
        "outputId": "cb42f6f3-c074-499c-8ac6-393269883259"
      },
      "execution_count": 243,
      "outputs": [
        {
          "output_type": "execute_result",
          "data": {
            "text/plain": [
              "0.9972936400541272"
            ]
          },
          "metadata": {},
          "execution_count": 243
        }
      ]
    },
    {
      "cell_type": "code",
      "source": [
        "X_test_scaled[y_test == 1] += error_for_1\n",
        "X_test_scaled[y_test == -1] += error_for_0\n",
        "\n",
        "accuracy_score(y_test, rob.predict(X_test_scaled))"
      ],
      "metadata": {
        "colab": {
          "base_uri": "https://localhost:8080/"
        },
        "id": "mpKR6tH-Kp58",
        "outputId": "f32aa87f-f2da-4342-9454-0d865dbb2c67"
      },
      "execution_count": 244,
      "outputs": [
        {
          "output_type": "execute_result",
          "data": {
            "text/plain": [
              "0.8709066305818673"
            ]
          },
          "metadata": {},
          "execution_count": 244
        }
      ]
    },
    {
      "cell_type": "code",
      "source": [],
      "metadata": {
        "id": "04j1sTSpMdG5"
      },
      "execution_count": null,
      "outputs": []
    }
  ],
  "metadata": {
    "colab": {
      "provenance": []
    },
    "kernelspec": {
      "display_name": "Python 3",
      "name": "python3"
    },
    "language_info": {
      "name": "python"
    }
  },
  "nbformat": 4,
  "nbformat_minor": 0
}