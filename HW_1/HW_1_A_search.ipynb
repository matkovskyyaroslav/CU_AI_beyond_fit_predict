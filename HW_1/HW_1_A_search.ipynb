{
  "cells": [
    {
      "cell_type": "code",
      "source": [
        "## Полезная библиотека для решения\n",
        "# %pip install HeapDict\n",
        "# import heapdict"
      ],
      "metadata": {
        "id": "i2Fm39EO4YL0"
      },
      "execution_count": null,
      "outputs": []
    },
    {
      "cell_type": "markdown",
      "metadata": {
        "id": "SS7t7idlwLnW"
      },
      "source": [
        "# Задание на программирование [50 баллов]\n",
        "\n",
        "**Постановка**\n",
        "\n",
        "В этой задаче вам предстоит реализовать алгоритм поиска на графе 𝐴*, для нахождения оптимальной последовательности ходов в игре пятнашки (3 × 3). Например, пусть дано следующее начальное расположение:\n",
        "\n",
        "|   |   |   |\n",
        "|---|---|---|\n",
        "| 1 | 2 | 3 |\n",
        "| 4 |   | 6 |\n",
        "| 7 | 5 | 8 |\n",
        "\n",
        "Ваша программа должна найти самую короткую последовательность ходов, чтобы перевести игру в целевое расположение:\n",
        "\n",
        "|   |   |   |\n",
        "|---|---|---|\n",
        "| 1 | 2 | 3 |\n",
        "| 4 | 5 | 6 |\n",
        "| 7 | 8 |   |\n",
        "\n",
        "Выход вашей программы должен выглядеть примерно так: [\"down\", \"right\"], то есть для решения этой головоломки нужно сначала сдвинуть пустую клетку внизу (поменять ее местами с костяшкой снизу), а затем сдвинуть ее вправо (поменять ее местами с костяшкой справа).\n",
        "\n",
        "**Техническию детали**\n",
        "\n",
        "*   Текущее состояние игры будет представлено в виде Python tuple, где пустая клетка обозачается нулем. Пример выше будет выглядеть следующим образом (1, 2, 3, 4, 0, 6, 7, 5, 8).\n",
        "*   Не каждая начальная позиция может быть переведена в целевое состояние. Чтобы протестировать ваше решение, может быть полезно написать функцию, которая генерирует валидные изначальные расположения. Для этого можно начать из целевой позиции и многогратно переместить пустую клетку в случайном допустимом направлении."
      ]
    },
    {
      "cell_type": "markdown",
      "metadata": {
        "id": "AQIzVpSEwLnY"
      },
      "source": [
        "## Часть 1. Реализация эвристик [20 баллов]\n",
        "\n",
        "Вам нужно реализовать две эвристики в предоставленных шаблонах функций `heuristic_misplaced` и `heuristic_manhattan`."
      ]
    },
    {
      "cell_type": "markdown",
      "metadata": {
        "id": "clyflXFLwLnZ"
      },
      "source": [
        "**Задача 1. Количество неправильно расположенных костяшек [10 баллов]**\n",
        "\n",
        "Реализуйте эвристику, которая возвращает количество костяшек, расположенных не на своих местах. Пустое пространство не является костяшкой и не должно учитываться при подсчете неправильно расположенных костяшек."
      ]
    },
    {
      "cell_type": "code",
      "source": [
        "import numpy as np"
      ],
      "metadata": {
        "id": "EtM-4mhAWojC"
      },
      "execution_count": null,
      "outputs": []
    },
    {
      "cell_type": "code",
      "execution_count": null,
      "metadata": {
        "id": "XkDg2EEIwLnZ"
      },
      "outputs": [],
      "source": [
        "def heuristic_misplaced(state):\n",
        "    \"\"\"\n",
        "    Количество неправильно расположенных костяшек.\n",
        "    Пустое пространство не является костяшкой и не должно\n",
        "    не учитывается при подсчете неправильно размещенных костяшек.\n",
        "\n",
        "    :param state: Tuple, представляющий текущее состояние игры.\n",
        "    :return: Количество неправильно расположенных костяшек.\n",
        "    \"\"\"\n",
        "\n",
        "    # [TODO: Ваш код здесь!]\n",
        "    mask = np.array([1, 2, 3, 4, 5, 6, 7, 8, 0])\n",
        "    curr = np.array(state)\n",
        "    res = len(mask[mask != curr]) - int(curr[-1] != 0)\n",
        "    return res"
      ]
    },
    {
      "cell_type": "code",
      "source": [
        "# В этом блоке вы можете протестировать свое решение для самопроверки.\n",
        "# После сдачи мы протестируем ваше решение на дополнительных тестах и проверим\n",
        "# корректность вручную\n",
        "\n",
        "def test_heuristic_misplaced():\n",
        "    res = []\n",
        "    test_cases = [\n",
        "    ((1, 2, 3, 4, 0, 6, 7, 5, 8), 2),\n",
        "    ((1, 2, 3, 4, 5, 6, 7, 8, 0), 0),\n",
        "    ((1, 2, 3, 4, 5, 6, 7, 0, 8), 1),\n",
        "    ((1, 2, 3, 4, 5, 6, 0, 7, 8), 2),\n",
        "    ((1, 2, 3, 4, 0, 5, 7, 8, 6), 2),\n",
        "    ((1, 2, 3, 5, 4, 6, 7, 8, 0), 2)\n",
        "]\n",
        "\n",
        "\n",
        "\n",
        "    for i, (state, expected_value) in enumerate(test_cases):\n",
        "        actual_value = heuristic_misplaced(state)\n",
        "        assert actual_value == expected_value, f\"Тест для расположения {state} завершился ошибкой: \" \\\n",
        "                                               f\"функия heuristic_misplaced вернула значение {actual_value}, \" \\\n",
        "                                               f\"ожидаемое значение: {expected_value}\"\n",
        "\n",
        "    print(\"Все тесты для heuristic_misplaced завершились успешно!\")\n",
        "\n",
        "test_heuristic_misplaced()"
      ],
      "metadata": {
        "id": "gqY3zK9OxqBZ",
        "colab": {
          "base_uri": "https://localhost:8080/"
        },
        "outputId": "3166fd5d-cc03-4ca1-9ffe-1768f549bdfe"
      },
      "execution_count": null,
      "outputs": [
        {
          "output_type": "stream",
          "name": "stdout",
          "text": [
            "Все тесты для heuristic_misplaced завершились успешно!\n"
          ]
        }
      ]
    },
    {
      "cell_type": "markdown",
      "metadata": {
        "id": "jWLldacvwLna"
      },
      "source": [
        "**Задача 2. Сумма манхэттенских расстояний до правильных позиций [10 баллов]**\n",
        "\n",
        "Реализуйте эвристику, которая для каждой костяшки подсчитывает манхэттэнское расстояние до правильной позиции и возвращает сумму этих расстояний. Пустое пространство не является костяшкой и не должно учитываться при подсчете.\n",
        "\n",
        "*Пример: В приведенном выше примере расстояния от неправильно расположенных костяшек 5 и 8 до их правильных позиций равны 1, поэтому сумма манхэттенских расстояний равна 2.*"
      ]
    },
    {
      "cell_type": "code",
      "execution_count": null,
      "metadata": {
        "id": "CtcUzt29wLna"
      },
      "outputs": [],
      "source": [
        "def heuristic_manhattan(state):\n",
        "    \"\"\"\n",
        "    Сумма манхэттенских расстояний от неправильно\n",
        "    расположенных костяшек до их правильного положения.\n",
        "\n",
        "    :param state: Tuple, представляющий текущее состояние игры.\n",
        "    :return: Сумма манхэттенских расстояний.\n",
        "    \"\"\"\n",
        "\n",
        "    # [TODO: Ваш код здесь!]\n",
        "    aim = [1, 2, 3, 4, 5, 6, 7, 8, 0]\n",
        "    res = 0\n",
        "    for i in range(1, 9):\n",
        "        res += abs(aim.index(i) % 3 - list(state).index(i) % 3) + abs(aim.index(i) // 3 - list(state).index(i) // 3)\n",
        "\n",
        "    return res # TODO: Замените на ваше значение."
      ]
    },
    {
      "cell_type": "code",
      "source": [
        "# В этом блоке вы можете протестировать свое решение для самопроверки.\n",
        "# После сдачи мы протестируем ваше решение на дополнительных тестах и проверим\n",
        "# корректность вручную\n",
        "\n",
        "def test_heuristic_manhattan():\n",
        "    res = []\n",
        "    test_cases = [\n",
        "        ((1, 2, 3, 4, 0, 6, 7, 5, 8), 2),\n",
        "        ((1, 2, 3, 4, 5, 6, 7, 8, 0), 0),\n",
        "        ((1, 2, 3, 4, 5, 6, 0, 7, 8), 2),\n",
        "        ((1, 2, 3, 4, 6, 0, 7, 5, 8), 3),\n",
        "        ((1, 3, 0, 4, 2, 5, 7, 8, 6), 4),\n",
        "        ((1, 2, 3, 4, 0, 8, 7, 6, 5), 6)\n",
        "    ]\n",
        "\n",
        "    for state, expected_value in test_cases:\n",
        "        actual_value = heuristic_manhattan(state)\n",
        "        assert actual_value == expected_value, f\"Тест для расположения {state} завершился ошибкой: \" \\\n",
        "                                               f\"функия heuristic_manhattan вернула значение {actual_value}, \" \\\n",
        "                                               f\"ожидаемое значение: {expected_value}\"\n",
        "\n",
        "    print(\"Все тесты для heuristic_manhattan завершились успешно!\")\n",
        "\n",
        "test_heuristic_manhattan()"
      ],
      "metadata": {
        "id": "qGnkeCpC1sJm",
        "colab": {
          "base_uri": "https://localhost:8080/"
        },
        "outputId": "677ca71d-a545-4298-ef8c-2ca1cd23dbb0"
      },
      "execution_count": null,
      "outputs": [
        {
          "output_type": "stream",
          "name": "stdout",
          "text": [
            "Все тесты для heuristic_manhattan завершились успешно!\n"
          ]
        }
      ]
    },
    {
      "cell_type": "markdown",
      "metadata": {
        "id": "KmgHU4pzwLna"
      },
      "source": [
        "## Часть 2. Реализация A* [20 баллов]\n",
        "\n",
        "Теперь вам предстоит реализовать алгоритм поиска на графе A* в предоставленном шаблоне функции astar, чтобы найти решение пятнашек с помощью эвристик, описанных выше. Ваша функция должна возвращать два объекта:\n",
        "\n",
        "*   строку, представляющую ходы, необходимые для достижения цели\n",
        "*   список состояний в том порядке, в котором они были исследованы алгоритмом (expanded)\n",
        "\n",
        "Используйте символы «r», «l», «u» и «d» для обозначения направлений «вправо», «влево», «вверх» и «вниз» соответственно. В приведенном выше примере ваша функция должна вернуть строку `dr`. Если изначальное расположение не имеет решений, верните None для оптимального пути и список посещенных (Expanded) состояний.\n",
        "\n",
        "**Детерминированность**\n",
        "\n",
        "Строго говоря, A* не является детерминированым алгоритмом. Если при выборе следующей вершины для исследования несколько вершин имеют одинаковое значение cost-функции (текущее количество ходов + значение эвристики), то алгоритм выбирает из этих вершин произвольно.\n",
        "\n",
        "Чтобы мы могли проверить ваше решение, мы требуем, чтобы ваша реализация алгоритма выбирала из нескольких вершин с одинаковой cost-функцией в лексикографическом порядке. Например, состояние (1, 2, 3, 4, 0, 6, 7, 5, 8) лексикографически меньше, чем (1, 2, 3, 4, 0, 6, 7, 8, 5).\n",
        "\n",
        "**Реализация**\n",
        "\n",
        "В реализации алгоритма вам потребуется очередь с приоритетом для выбора следующей вершины для исследования. Мы рекомендуем использовать heapdict. В первом блоке этого ноутбука показано как установить эту библиотеку в Google Colab и импортировать ее. Подробности можно найти по адресу https://github.com/DanielStutzbach/heapdict.\n",
        "\n",
        "Чтобы выполнить требование детерминированности, в качестве value в очереди с приоритетами следует использовать tuple (зачение cost-функции, state). Тогда выбор из нескольких вершин с одинаковыми значениями cost-функции будет осуществляться в лексикографическом порядке.\n",
        "\n",
        "**Тестирование**\n",
        "\n",
        "В блоке ниже реализован простой тест для первичной проверки алгоритма. Однако, мы рекомендуем вам протестировать решение на дополнительных примерах, которые вы должны сгенерировать самостоятельно."
      ]
    },
    {
      "cell_type": "code",
      "execution_count": 312,
      "metadata": {
        "id": "OlTBz634wLnb"
      },
      "outputs": [],
      "source": [
        "def step(state, heuristic, states_visited):\n",
        "    miss = heuristic\n",
        "    zero_index = state.index(0)\n",
        "\n",
        "    state_list = np.array(list(state))\n",
        "    left = -1\n",
        "    right = -1\n",
        "    up = -1\n",
        "    down = -1\n",
        "\n",
        "    a_1, a_2, a_3, a_4 = 100, 100, 100, 100\n",
        "\n",
        "    dct = dict()\n",
        "\n",
        "    if zero_index - 1 >= 0:\n",
        "        left = zero_index - 1\n",
        "        state_list[zero_index], state_list[left] = state_list[left], state_list[zero_index]\n",
        "        a_1 = miss(state_list)\n",
        "        if tuple(state_list) not in states_visited:\n",
        "            dct[a_1] = [tuple(state_list), 'l']\n",
        "        else:\n",
        "            a_1 = 100\n",
        "        state_list[zero_index], state_list[left] = state_list[left], state_list[zero_index]\n",
        "\n",
        "\n",
        "    if zero_index + 1 < len(state):\n",
        "        right = zero_index + 1\n",
        "        state_list[zero_index], state_list[right] = state_list[right], state_list[zero_index]\n",
        "        a_2 = miss(state_list)\n",
        "        if tuple(state_list) not in states_visited:\n",
        "            dct[a_2] = [tuple(state_list), 'r']\n",
        "        else:\n",
        "            a_2 = 100\n",
        "        state_list[zero_index], state_list[right] = state_list[right], state_list[zero_index]\n",
        "\n",
        "    if zero_index - 3 >= 0:\n",
        "        up = zero_index - 3\n",
        "        state_list[zero_index], state_list[up] = state_list[up], state_list[zero_index]\n",
        "        a_3 = miss(state_list)\n",
        "        if tuple(state_list) not in states_visited:\n",
        "            dct[a_3] = [tuple(state_list), 'u']\n",
        "        else:\n",
        "            a_3 = 100\n",
        "        state_list[zero_index], state_list[up] = state_list[up], state_list[zero_index]\n",
        "\n",
        "    if zero_index + 3 < len(state):\n",
        "        down = zero_index + 3\n",
        "        state_list[zero_index], state_list[down] = state_list[down], state_list[zero_index]\n",
        "        a_4 = miss(state_list)\n",
        "        if tuple(state_list) not in states_visited:\n",
        "            dct[a_4] = [tuple(state_list), 'd']\n",
        "        else:\n",
        "            a_4 = 100\n",
        "        state_list[zero_index], state_list[down] = state_list[down], state_list[zero_index]\n",
        "\n",
        "    return dct[np.min([a_1, a_2, a_3, a_4])]\n",
        "\n",
        "\n",
        "def astar(init_state, heuristic):\n",
        "    \"\"\"\n",
        "    A^* implementation.\n",
        "\n",
        "    :param init_state: Tuple, представляющий текущее состояние игры.\n",
        "    :param heuristic: Функция эвристики\n",
        "    :return: Tuple, в котором:\n",
        "        Первый элемент - это строка, представляющая оптимальный путь.\n",
        "            Используйте символы 'r', 'l', 'u' и 'd' для обозначения\n",
        "            'right', 'left', 'up' и 'down' соответственно.\n",
        "        Второй элемент - это список, содержащий исследованные (expanded)\n",
        "        алгоритмом состояния в порядке их прохождения.\n",
        "    \"\"\"\n",
        "    states_visited = set()\n",
        "    states_visited.add(init_state)\n",
        "\n",
        "    aim = (1, 2, 3, 4, 5, 6, 7, 8, 0)\n",
        "    curr_state = init_state\n",
        "    k = 0\n",
        "    ans_str = ''\n",
        "    ans_lst = [curr_state]\n",
        "\n",
        "    while curr_state != aim:\n",
        "        curr = step(curr_state, heuristic, states_visited)\n",
        "        ans_lst.append(curr[0])\n",
        "        ans_str += curr[1]\n",
        "        curr_state = curr[0]\n",
        "        states_visited.add(tuple(curr_state))\n",
        "        k += 1\n",
        "\n",
        "    # [TODO: Ваш код здесь!]\n",
        "\n",
        "\n",
        "    return ans_str, ans_lst # TODO: Замените на свое значение"
      ]
    },
    {
      "cell_type": "code",
      "source": [
        "# В этом блоке вы можете протестировать свое решение для самопроверки.\n",
        "# После сдачи мы протестируем ваше решение на дополнительных тестах и проверим\n",
        "# корректность вручную\n",
        "\n",
        "def test_astar(heuristic):\n",
        "    test_cases = [\n",
        "            ((1, 2, 3, 4, 5, 6, 7, 8, 0), \"\", [(1, 2, 3, 4, 5, 6, 7, 8, 0)]),\n",
        "            ((1, 2, 3, 4, 5, 6, 0, 7, 8), \"rr\", [(1, 2, 3, 4, 5, 6, 0, 7, 8),\n",
        "                                                (1, 2, 3, 4, 5, 6, 7, 0, 8),\n",
        "                                                (1, 2, 3, 4, 5, 6, 7, 8, 0)]),\n",
        "            ((1, 2, 3, 4, 6, 0, 7, 5, 8), \"ldr\", [(1, 2, 3, 4, 6, 0, 7, 5, 8),\n",
        "                                                (1, 2, 3, 4, 0, 6, 7, 5, 8),\n",
        "                                                (1, 2, 3, 4, 5, 6, 7, 0, 8),\n",
        "                                                (1, 2, 3, 4, 5, 6, 7, 8, 0)]),\n",
        "            ((1, 3, 0, 4, 2, 5, 7, 8, 6), \"ldrd\", [(1, 3, 0, 4, 2, 5, 7, 8, 6),\n",
        "                                                (1, 0, 3, 4, 2, 5, 7, 8, 6),\n",
        "                                                (1, 2, 3, 4, 0, 5, 7, 8, 6),\n",
        "                                                (1, 2, 3, 4, 5, 0, 7, 8, 6),\n",
        "                                                (1, 2, 3, 4, 5, 6, 7, 8, 0)]),\n",
        "        ]\n",
        "\n",
        "    for test in test_cases:\n",
        "        state, actual_path, actual_states = test[0], test[1], test[2]\n",
        "        path, states = astar(test[0], heuristic)\n",
        "        assert path == actual_path and states == actual_states, f\"Тест для расположения {state} завершился ошибкой: \" \\\n",
        "                                                                f\"astar вернула {path}, {states}, \" \\\n",
        "                                                                    f\"ожидаемые значения {actual_path, actual_states}\"\n",
        "    print(\"Все тесты для test_astar завершились успешно!\")\n",
        "\n",
        "test_astar(heuristic_manhattan)\n",
        "test_astar(heuristic_misplaced)"
      ],
      "metadata": {
        "id": "CxMq1njV29_G",
        "colab": {
          "base_uri": "https://localhost:8080/"
        },
        "outputId": "5c5fef91-ff41-4aa8-f393-5260dddc0c45"
      },
      "execution_count": 313,
      "outputs": [
        {
          "output_type": "stream",
          "name": "stdout",
          "text": [
            "Все тесты для test_astar завершились успешно!\n",
            "Все тесты для test_astar завершились успешно!\n"
          ]
        }
      ]
    },
    {
      "cell_type": "markdown",
      "source": [
        "## Часть 3. Сравнение эвристик [10 баллов]\n",
        "\n",
        "Теперь сравниие эффективность различных эвристик. Выберите несколько допустимых начальных позиций и сравните количество исследованных (expanded) алгоритмом состояний для двух эвристик. Прокомментируйте наблюдаемый результат."
      ],
      "metadata": {
        "id": "Bor1YfHc2s2G"
      }
    },
    {
      "cell_type": "code",
      "source": [
        "def check_heuristics_difference():\n",
        "\n",
        "    # [TODO: Ваш код здесь!]\n",
        "    samples = [\n",
        "        (1, 2, 3, 4, 5, 6, 0, 7, 8),\n",
        "        (1, 3, 0, 4, 2, 5, 7, 8, 6),\n",
        "        (0, 6, 1, 2, 5, 3, 8, 7, 4),\n",
        "        (6, 8, 5, 2, 3, 1, 0, 7, 4),\n",
        "        (1, 7, 4, 3, 2, 0, 5, 6, 8)\n",
        "    ]\n",
        "\n",
        "    for sample in samples:\n",
        "        res_misplaced = len(astar(sample, heuristic_misplaced)[0])\n",
        "        res_manhattan = len(astar(sample, heuristic_manhattan)[0])\n",
        "        print(f'misplaced {res_misplaced}')\n",
        "        print(f'manhattan {res_manhattan}')\n",
        "        print()\n"
      ],
      "metadata": {
        "id": "aalzF4kg4A0B"
      },
      "execution_count": 333,
      "outputs": []
    },
    {
      "cell_type": "code",
      "source": [
        "check_heuristics_difference()"
      ],
      "metadata": {
        "colab": {
          "base_uri": "https://localhost:8080/"
        },
        "id": "VaRq8sxwyc_t",
        "outputId": "54fca9af-1900-4fb7-80de-ad3d2c5596a3"
      },
      "execution_count": 334,
      "outputs": [
        {
          "output_type": "stream",
          "name": "stdout",
          "text": [
            "misplaced 2\n",
            "manhattan 2\n",
            "\n",
            "misplaced 4\n",
            "manhattan 4\n",
            "\n",
            "misplaced 202\n",
            "manhattan 18\n",
            "\n",
            "misplaced 326\n",
            "manhattan 260\n",
            "\n",
            "misplaced 265\n",
            "manhattan 43\n",
            "\n"
          ]
        }
      ]
    },
    {
      "cell_type": "markdown",
      "source": [
        "**Вывод:** Эвристика с числом неверно расположенных костяшек показала себя намного хуже на 'боевых' примерах. Это, скорее всего, объясняется тем, что она часто может совпадать для двух разных состояний. Манххэттенское расстояние всегда почти разное, и благодаря нему у нас по пути к целевому положению меньше решает рандом куда нам идти."
      ],
      "metadata": {
        "id": "-2d1TJZb24ZE"
      }
    }
  ],
  "metadata": {
    "kernelspec": {
      "display_name": "airbnb_venv",
      "language": "python",
      "name": "airbnb_venv"
    },
    "language_info": {
      "codemirror_mode": {
        "name": "ipython",
        "version": 3
      },
      "file_extension": ".py",
      "mimetype": "text/x-python",
      "name": "python",
      "nbconvert_exporter": "python",
      "pygments_lexer": "ipython3",
      "version": "3.9.7"
    },
    "colab": {
      "provenance": []
    }
  },
  "nbformat": 4,
  "nbformat_minor": 0
}